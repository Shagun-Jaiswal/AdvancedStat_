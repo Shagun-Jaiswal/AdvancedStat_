{
  "nbformat": 4,
  "nbformat_minor": 0,
  "metadata": {
    "colab": {
      "provenance": [],
      "collapsed_sections": [
        "giApkH5YmPT2",
        "IHw0a5Hcmn_t",
        "hdzHZEQFntJY",
        "IvzPzBByDFIY",
        "ej6baRqORRkQ"
      ]
    },
    "kernelspec": {
      "name": "python3",
      "display_name": "Python 3"
    },
    "language_info": {
      "name": "python"
    }
  },
  "cells": [
    {
      "cell_type": "markdown",
      "source": [
        "### Loading the necessary libraries:"
      ],
      "metadata": {
        "id": "moT34uDFUOnJ"
      }
    },
    {
      "cell_type": "code",
      "execution_count": 121,
      "metadata": {
        "id": "RtBd_3fsUMbm"
      },
      "outputs": [],
      "source": [
        "import numpy as np\n",
        "import pandas as pd\n",
        "import matplotlib.pyplot as plt\n",
        "import seaborn as sns"
      ]
    },
    {
      "cell_type": "markdown",
      "source": [
        "# **Boston Housing Dataset**"
      ],
      "metadata": {
        "id": "NewVxstVC87O"
      }
    },
    {
      "cell_type": "code",
      "source": [
        "data_url = \"http://lib.stat.cmu.edu/datasets/boston\"\n",
        "raw_df = pd.read_csv(data_url, sep=\"\\s+\",skiprows = 22, header=None)"
      ],
      "metadata": {
        "id": "3ajsmf4SVgCv"
      },
      "execution_count": 122,
      "outputs": []
    },
    {
      "cell_type": "code",
      "source": [
        "data = np.hstack([raw_df.values[::2, :], raw_df.values[1::2, :2]])\n",
        "data"
      ],
      "metadata": {
        "colab": {
          "base_uri": "https://localhost:8080/"
        },
        "id": "_EGGEJ1BV9p1",
        "outputId": "da0e958b-b9c7-463c-de24-631a9becd13a"
      },
      "execution_count": 123,
      "outputs": [
        {
          "output_type": "execute_result",
          "data": {
            "text/plain": [
              "array([[6.3200e-03, 1.8000e+01, 2.3100e+00, ..., 1.5300e+01, 3.9690e+02,\n",
              "        4.9800e+00],\n",
              "       [2.7310e-02, 0.0000e+00, 7.0700e+00, ..., 1.7800e+01, 3.9690e+02,\n",
              "        9.1400e+00],\n",
              "       [2.7290e-02, 0.0000e+00, 7.0700e+00, ..., 1.7800e+01, 3.9283e+02,\n",
              "        4.0300e+00],\n",
              "       ...,\n",
              "       [6.0760e-02, 0.0000e+00, 1.1930e+01, ..., 2.1000e+01, 3.9690e+02,\n",
              "        5.6400e+00],\n",
              "       [1.0959e-01, 0.0000e+00, 1.1930e+01, ..., 2.1000e+01, 3.9345e+02,\n",
              "        6.4800e+00],\n",
              "       [4.7410e-02, 0.0000e+00, 1.1930e+01, ..., 2.1000e+01, 3.9690e+02,\n",
              "        7.8800e+00]])"
            ]
          },
          "metadata": {},
          "execution_count": 123
        }
      ]
    },
    {
      "cell_type": "code",
      "source": [
        "target = raw_df.values[1::2, 2]\n",
        "target"
      ],
      "metadata": {
        "colab": {
          "base_uri": "https://localhost:8080/"
        },
        "id": "YFplFfHOWYqV",
        "outputId": "956f0f49-c819-4669-a37e-2b5d625678d8"
      },
      "execution_count": 124,
      "outputs": [
        {
          "output_type": "execute_result",
          "data": {
            "text/plain": [
              "array([24. , 21.6, 34.7, 33.4, 36.2, 28.7, 22.9, 27.1, 16.5, 18.9, 15. ,\n",
              "       18.9, 21.7, 20.4, 18.2, 19.9, 23.1, 17.5, 20.2, 18.2, 13.6, 19.6,\n",
              "       15.2, 14.5, 15.6, 13.9, 16.6, 14.8, 18.4, 21. , 12.7, 14.5, 13.2,\n",
              "       13.1, 13.5, 18.9, 20. , 21. , 24.7, 30.8, 34.9, 26.6, 25.3, 24.7,\n",
              "       21.2, 19.3, 20. , 16.6, 14.4, 19.4, 19.7, 20.5, 25. , 23.4, 18.9,\n",
              "       35.4, 24.7, 31.6, 23.3, 19.6, 18.7, 16. , 22.2, 25. , 33. , 23.5,\n",
              "       19.4, 22. , 17.4, 20.9, 24.2, 21.7, 22.8, 23.4, 24.1, 21.4, 20. ,\n",
              "       20.8, 21.2, 20.3, 28. , 23.9, 24.8, 22.9, 23.9, 26.6, 22.5, 22.2,\n",
              "       23.6, 28.7, 22.6, 22. , 22.9, 25. , 20.6, 28.4, 21.4, 38.7, 43.8,\n",
              "       33.2, 27.5, 26.5, 18.6, 19.3, 20.1, 19.5, 19.5, 20.4, 19.8, 19.4,\n",
              "       21.7, 22.8, 18.8, 18.7, 18.5, 18.3, 21.2, 19.2, 20.4, 19.3, 22. ,\n",
              "       20.3, 20.5, 17.3, 18.8, 21.4, 15.7, 16.2, 18. , 14.3, 19.2, 19.6,\n",
              "       23. , 18.4, 15.6, 18.1, 17.4, 17.1, 13.3, 17.8, 14. , 14.4, 13.4,\n",
              "       15.6, 11.8, 13.8, 15.6, 14.6, 17.8, 15.4, 21.5, 19.6, 15.3, 19.4,\n",
              "       17. , 15.6, 13.1, 41.3, 24.3, 23.3, 27. , 50. , 50. , 50. , 22.7,\n",
              "       25. , 50. , 23.8, 23.8, 22.3, 17.4, 19.1, 23.1, 23.6, 22.6, 29.4,\n",
              "       23.2, 24.6, 29.9, 37.2, 39.8, 36.2, 37.9, 32.5, 26.4, 29.6, 50. ,\n",
              "       32. , 29.8, 34.9, 37. , 30.5, 36.4, 31.1, 29.1, 50. , 33.3, 30.3,\n",
              "       34.6, 34.9, 32.9, 24.1, 42.3, 48.5, 50. , 22.6, 24.4, 22.5, 24.4,\n",
              "       20. , 21.7, 19.3, 22.4, 28.1, 23.7, 25. , 23.3, 28.7, 21.5, 23. ,\n",
              "       26.7, 21.7, 27.5, 30.1, 44.8, 50. , 37.6, 31.6, 46.7, 31.5, 24.3,\n",
              "       31.7, 41.7, 48.3, 29. , 24. , 25.1, 31.5, 23.7, 23.3, 22. , 20.1,\n",
              "       22.2, 23.7, 17.6, 18.5, 24.3, 20.5, 24.5, 26.2, 24.4, 24.8, 29.6,\n",
              "       42.8, 21.9, 20.9, 44. , 50. , 36. , 30.1, 33.8, 43.1, 48.8, 31. ,\n",
              "       36.5, 22.8, 30.7, 50. , 43.5, 20.7, 21.1, 25.2, 24.4, 35.2, 32.4,\n",
              "       32. , 33.2, 33.1, 29.1, 35.1, 45.4, 35.4, 46. , 50. , 32.2, 22. ,\n",
              "       20.1, 23.2, 22.3, 24.8, 28.5, 37.3, 27.9, 23.9, 21.7, 28.6, 27.1,\n",
              "       20.3, 22.5, 29. , 24.8, 22. , 26.4, 33.1, 36.1, 28.4, 33.4, 28.2,\n",
              "       22.8, 20.3, 16.1, 22.1, 19.4, 21.6, 23.8, 16.2, 17.8, 19.8, 23.1,\n",
              "       21. , 23.8, 23.1, 20.4, 18.5, 25. , 24.6, 23. , 22.2, 19.3, 22.6,\n",
              "       19.8, 17.1, 19.4, 22.2, 20.7, 21.1, 19.5, 18.5, 20.6, 19. , 18.7,\n",
              "       32.7, 16.5, 23.9, 31.2, 17.5, 17.2, 23.1, 24.5, 26.6, 22.9, 24.1,\n",
              "       18.6, 30.1, 18.2, 20.6, 17.8, 21.7, 22.7, 22.6, 25. , 19.9, 20.8,\n",
              "       16.8, 21.9, 27.5, 21.9, 23.1, 50. , 50. , 50. , 50. , 50. , 13.8,\n",
              "       13.8, 15. , 13.9, 13.3, 13.1, 10.2, 10.4, 10.9, 11.3, 12.3,  8.8,\n",
              "        7.2, 10.5,  7.4, 10.2, 11.5, 15.1, 23.2,  9.7, 13.8, 12.7, 13.1,\n",
              "       12.5,  8.5,  5. ,  6.3,  5.6,  7.2, 12.1,  8.3,  8.5,  5. , 11.9,\n",
              "       27.9, 17.2, 27.5, 15. , 17.2, 17.9, 16.3,  7. ,  7.2,  7.5, 10.4,\n",
              "        8.8,  8.4, 16.7, 14.2, 20.8, 13.4, 11.7,  8.3, 10.2, 10.9, 11. ,\n",
              "        9.5, 14.5, 14.1, 16.1, 14.3, 11.7, 13.4,  9.6,  8.7,  8.4, 12.8,\n",
              "       10.5, 17.1, 18.4, 15.4, 10.8, 11.8, 14.9, 12.6, 14.1, 13. , 13.4,\n",
              "       15.2, 16.1, 17.8, 14.9, 14.1, 12.7, 13.5, 14.9, 20. , 16.4, 17.7,\n",
              "       19.5, 20.2, 21.4, 19.9, 19. , 19.1, 19.1, 20.1, 19.9, 19.6, 23.2,\n",
              "       29.8, 13.8, 13.3, 16.7, 12. , 14.6, 21.4, 23. , 23.7, 25. , 21.8,\n",
              "       20.6, 21.2, 19.1, 20.6, 15.2,  7. ,  8.1, 13.6, 20.1, 21.8, 24.5,\n",
              "       23.1, 19.7, 18.3, 21.2, 17.5, 16.8, 22.4, 20.6, 23.9, 22. , 11.9])"
            ]
          },
          "metadata": {},
          "execution_count": 124
        }
      ]
    },
    {
      "cell_type": "code",
      "source": [
        "df = pd.DataFrame(data = data ,columns = ['CRIM', 'ZN', 'INDUS', 'CHAS', 'NOX', 'RM', 'AGE', 'DIS', 'RAD','TAX', 'PTRATIO', 'B', 'LSTAT'])"
      ],
      "metadata": {
        "id": "oaA58YxrWguN"
      },
      "execution_count": 125,
      "outputs": []
    },
    {
      "cell_type": "code",
      "source": [
        "df['target']= target"
      ],
      "metadata": {
        "id": "YznSXRcmZh1a"
      },
      "execution_count": 126,
      "outputs": []
    },
    {
      "cell_type": "code",
      "source": [
        "df.head()"
      ],
      "metadata": {
        "colab": {
          "base_uri": "https://localhost:8080/",
          "height": 206
        },
        "id": "PE-ctxhbZm2C",
        "outputId": "23c4822e-1cdc-4a38-94bb-d93de8983430"
      },
      "execution_count": 127,
      "outputs": [
        {
          "output_type": "execute_result",
          "data": {
            "text/plain": [
              "      CRIM    ZN  INDUS  CHAS    NOX     RM   AGE     DIS  RAD    TAX  \\\n",
              "0  0.00632  18.0   2.31   0.0  0.538  6.575  65.2  4.0900  1.0  296.0   \n",
              "1  0.02731   0.0   7.07   0.0  0.469  6.421  78.9  4.9671  2.0  242.0   \n",
              "2  0.02729   0.0   7.07   0.0  0.469  7.185  61.1  4.9671  2.0  242.0   \n",
              "3  0.03237   0.0   2.18   0.0  0.458  6.998  45.8  6.0622  3.0  222.0   \n",
              "4  0.06905   0.0   2.18   0.0  0.458  7.147  54.2  6.0622  3.0  222.0   \n",
              "\n",
              "   PTRATIO       B  LSTAT  target  \n",
              "0     15.3  396.90   4.98    24.0  \n",
              "1     17.8  396.90   9.14    21.6  \n",
              "2     17.8  392.83   4.03    34.7  \n",
              "3     18.7  394.63   2.94    33.4  \n",
              "4     18.7  396.90   5.33    36.2  "
            ],
            "text/html": [
              "\n",
              "  <div id=\"df-e33f5799-ccef-43a3-a8e9-7dcaa2e295a9\">\n",
              "    <div class=\"colab-df-container\">\n",
              "      <div>\n",
              "<style scoped>\n",
              "    .dataframe tbody tr th:only-of-type {\n",
              "        vertical-align: middle;\n",
              "    }\n",
              "\n",
              "    .dataframe tbody tr th {\n",
              "        vertical-align: top;\n",
              "    }\n",
              "\n",
              "    .dataframe thead th {\n",
              "        text-align: right;\n",
              "    }\n",
              "</style>\n",
              "<table border=\"1\" class=\"dataframe\">\n",
              "  <thead>\n",
              "    <tr style=\"text-align: right;\">\n",
              "      <th></th>\n",
              "      <th>CRIM</th>\n",
              "      <th>ZN</th>\n",
              "      <th>INDUS</th>\n",
              "      <th>CHAS</th>\n",
              "      <th>NOX</th>\n",
              "      <th>RM</th>\n",
              "      <th>AGE</th>\n",
              "      <th>DIS</th>\n",
              "      <th>RAD</th>\n",
              "      <th>TAX</th>\n",
              "      <th>PTRATIO</th>\n",
              "      <th>B</th>\n",
              "      <th>LSTAT</th>\n",
              "      <th>target</th>\n",
              "    </tr>\n",
              "  </thead>\n",
              "  <tbody>\n",
              "    <tr>\n",
              "      <th>0</th>\n",
              "      <td>0.00632</td>\n",
              "      <td>18.0</td>\n",
              "      <td>2.31</td>\n",
              "      <td>0.0</td>\n",
              "      <td>0.538</td>\n",
              "      <td>6.575</td>\n",
              "      <td>65.2</td>\n",
              "      <td>4.0900</td>\n",
              "      <td>1.0</td>\n",
              "      <td>296.0</td>\n",
              "      <td>15.3</td>\n",
              "      <td>396.90</td>\n",
              "      <td>4.98</td>\n",
              "      <td>24.0</td>\n",
              "    </tr>\n",
              "    <tr>\n",
              "      <th>1</th>\n",
              "      <td>0.02731</td>\n",
              "      <td>0.0</td>\n",
              "      <td>7.07</td>\n",
              "      <td>0.0</td>\n",
              "      <td>0.469</td>\n",
              "      <td>6.421</td>\n",
              "      <td>78.9</td>\n",
              "      <td>4.9671</td>\n",
              "      <td>2.0</td>\n",
              "      <td>242.0</td>\n",
              "      <td>17.8</td>\n",
              "      <td>396.90</td>\n",
              "      <td>9.14</td>\n",
              "      <td>21.6</td>\n",
              "    </tr>\n",
              "    <tr>\n",
              "      <th>2</th>\n",
              "      <td>0.02729</td>\n",
              "      <td>0.0</td>\n",
              "      <td>7.07</td>\n",
              "      <td>0.0</td>\n",
              "      <td>0.469</td>\n",
              "      <td>7.185</td>\n",
              "      <td>61.1</td>\n",
              "      <td>4.9671</td>\n",
              "      <td>2.0</td>\n",
              "      <td>242.0</td>\n",
              "      <td>17.8</td>\n",
              "      <td>392.83</td>\n",
              "      <td>4.03</td>\n",
              "      <td>34.7</td>\n",
              "    </tr>\n",
              "    <tr>\n",
              "      <th>3</th>\n",
              "      <td>0.03237</td>\n",
              "      <td>0.0</td>\n",
              "      <td>2.18</td>\n",
              "      <td>0.0</td>\n",
              "      <td>0.458</td>\n",
              "      <td>6.998</td>\n",
              "      <td>45.8</td>\n",
              "      <td>6.0622</td>\n",
              "      <td>3.0</td>\n",
              "      <td>222.0</td>\n",
              "      <td>18.7</td>\n",
              "      <td>394.63</td>\n",
              "      <td>2.94</td>\n",
              "      <td>33.4</td>\n",
              "    </tr>\n",
              "    <tr>\n",
              "      <th>4</th>\n",
              "      <td>0.06905</td>\n",
              "      <td>0.0</td>\n",
              "      <td>2.18</td>\n",
              "      <td>0.0</td>\n",
              "      <td>0.458</td>\n",
              "      <td>7.147</td>\n",
              "      <td>54.2</td>\n",
              "      <td>6.0622</td>\n",
              "      <td>3.0</td>\n",
              "      <td>222.0</td>\n",
              "      <td>18.7</td>\n",
              "      <td>396.90</td>\n",
              "      <td>5.33</td>\n",
              "      <td>36.2</td>\n",
              "    </tr>\n",
              "  </tbody>\n",
              "</table>\n",
              "</div>\n",
              "      <button class=\"colab-df-convert\" onclick=\"convertToInteractive('df-e33f5799-ccef-43a3-a8e9-7dcaa2e295a9')\"\n",
              "              title=\"Convert this dataframe to an interactive table.\"\n",
              "              style=\"display:none;\">\n",
              "        \n",
              "  <svg xmlns=\"http://www.w3.org/2000/svg\" height=\"24px\"viewBox=\"0 0 24 24\"\n",
              "       width=\"24px\">\n",
              "    <path d=\"M0 0h24v24H0V0z\" fill=\"none\"/>\n",
              "    <path d=\"M18.56 5.44l.94 2.06.94-2.06 2.06-.94-2.06-.94-.94-2.06-.94 2.06-2.06.94zm-11 1L8.5 8.5l.94-2.06 2.06-.94-2.06-.94L8.5 2.5l-.94 2.06-2.06.94zm10 10l.94 2.06.94-2.06 2.06-.94-2.06-.94-.94-2.06-.94 2.06-2.06.94z\"/><path d=\"M17.41 7.96l-1.37-1.37c-.4-.4-.92-.59-1.43-.59-.52 0-1.04.2-1.43.59L10.3 9.45l-7.72 7.72c-.78.78-.78 2.05 0 2.83L4 21.41c.39.39.9.59 1.41.59.51 0 1.02-.2 1.41-.59l7.78-7.78 2.81-2.81c.8-.78.8-2.07 0-2.86zM5.41 20L4 18.59l7.72-7.72 1.47 1.35L5.41 20z\"/>\n",
              "  </svg>\n",
              "      </button>\n",
              "      \n",
              "  <style>\n",
              "    .colab-df-container {\n",
              "      display:flex;\n",
              "      flex-wrap:wrap;\n",
              "      gap: 12px;\n",
              "    }\n",
              "\n",
              "    .colab-df-convert {\n",
              "      background-color: #E8F0FE;\n",
              "      border: none;\n",
              "      border-radius: 50%;\n",
              "      cursor: pointer;\n",
              "      display: none;\n",
              "      fill: #1967D2;\n",
              "      height: 32px;\n",
              "      padding: 0 0 0 0;\n",
              "      width: 32px;\n",
              "    }\n",
              "\n",
              "    .colab-df-convert:hover {\n",
              "      background-color: #E2EBFA;\n",
              "      box-shadow: 0px 1px 2px rgba(60, 64, 67, 0.3), 0px 1px 3px 1px rgba(60, 64, 67, 0.15);\n",
              "      fill: #174EA6;\n",
              "    }\n",
              "\n",
              "    [theme=dark] .colab-df-convert {\n",
              "      background-color: #3B4455;\n",
              "      fill: #D2E3FC;\n",
              "    }\n",
              "\n",
              "    [theme=dark] .colab-df-convert:hover {\n",
              "      background-color: #434B5C;\n",
              "      box-shadow: 0px 1px 3px 1px rgba(0, 0, 0, 0.15);\n",
              "      filter: drop-shadow(0px 1px 2px rgba(0, 0, 0, 0.3));\n",
              "      fill: #FFFFFF;\n",
              "    }\n",
              "  </style>\n",
              "\n",
              "      <script>\n",
              "        const buttonEl =\n",
              "          document.querySelector('#df-e33f5799-ccef-43a3-a8e9-7dcaa2e295a9 button.colab-df-convert');\n",
              "        buttonEl.style.display =\n",
              "          google.colab.kernel.accessAllowed ? 'block' : 'none';\n",
              "\n",
              "        async function convertToInteractive(key) {\n",
              "          const element = document.querySelector('#df-e33f5799-ccef-43a3-a8e9-7dcaa2e295a9');\n",
              "          const dataTable =\n",
              "            await google.colab.kernel.invokeFunction('convertToInteractive',\n",
              "                                                     [key], {});\n",
              "          if (!dataTable) return;\n",
              "\n",
              "          const docLinkHtml = 'Like what you see? Visit the ' +\n",
              "            '<a target=\"_blank\" href=https://colab.research.google.com/notebooks/data_table.ipynb>data table notebook</a>'\n",
              "            + ' to learn more about interactive tables.';\n",
              "          element.innerHTML = '';\n",
              "          dataTable['output_type'] = 'display_data';\n",
              "          await google.colab.output.renderOutput(dataTable, element);\n",
              "          const docLink = document.createElement('div');\n",
              "          docLink.innerHTML = docLinkHtml;\n",
              "          element.appendChild(docLink);\n",
              "        }\n",
              "      </script>\n",
              "    </div>\n",
              "  </div>\n",
              "  "
            ]
          },
          "metadata": {},
          "execution_count": 127
        }
      ]
    },
    {
      "cell_type": "code",
      "source": [
        "df.shape"
      ],
      "metadata": {
        "colab": {
          "base_uri": "https://localhost:8080/"
        },
        "id": "G95WB4aPZoW4",
        "outputId": "78cb44a6-ab25-4e2e-dfd5-c217afd28ddf"
      },
      "execution_count": 128,
      "outputs": [
        {
          "output_type": "execute_result",
          "data": {
            "text/plain": [
              "(506, 14)"
            ]
          },
          "metadata": {},
          "execution_count": 128
        }
      ]
    },
    {
      "cell_type": "code",
      "source": [
        "df.info()"
      ],
      "metadata": {
        "colab": {
          "base_uri": "https://localhost:8080/"
        },
        "id": "C8aTCqkLZ0IJ",
        "outputId": "d85c51fe-4cdf-4fbd-f54e-003b839dd2d3"
      },
      "execution_count": 129,
      "outputs": [
        {
          "output_type": "stream",
          "name": "stdout",
          "text": [
            "<class 'pandas.core.frame.DataFrame'>\n",
            "RangeIndex: 506 entries, 0 to 505\n",
            "Data columns (total 14 columns):\n",
            " #   Column   Non-Null Count  Dtype  \n",
            "---  ------   --------------  -----  \n",
            " 0   CRIM     506 non-null    float64\n",
            " 1   ZN       506 non-null    float64\n",
            " 2   INDUS    506 non-null    float64\n",
            " 3   CHAS     506 non-null    float64\n",
            " 4   NOX      506 non-null    float64\n",
            " 5   RM       506 non-null    float64\n",
            " 6   AGE      506 non-null    float64\n",
            " 7   DIS      506 non-null    float64\n",
            " 8   RAD      506 non-null    float64\n",
            " 9   TAX      506 non-null    float64\n",
            " 10  PTRATIO  506 non-null    float64\n",
            " 11  B        506 non-null    float64\n",
            " 12  LSTAT    506 non-null    float64\n",
            " 13  target   506 non-null    float64\n",
            "dtypes: float64(14)\n",
            "memory usage: 55.5 KB\n"
          ]
        }
      ]
    },
    {
      "cell_type": "code",
      "source": [
        "df.isnull().sum()"
      ],
      "metadata": {
        "colab": {
          "base_uri": "https://localhost:8080/"
        },
        "id": "iZOlr5hnZ1i3",
        "outputId": "d62ef2d5-262b-4203-b957-cfa567914e3e"
      },
      "execution_count": 130,
      "outputs": [
        {
          "output_type": "execute_result",
          "data": {
            "text/plain": [
              "CRIM       0\n",
              "ZN         0\n",
              "INDUS      0\n",
              "CHAS       0\n",
              "NOX        0\n",
              "RM         0\n",
              "AGE        0\n",
              "DIS        0\n",
              "RAD        0\n",
              "TAX        0\n",
              "PTRATIO    0\n",
              "B          0\n",
              "LSTAT      0\n",
              "target     0\n",
              "dtype: int64"
            ]
          },
          "metadata": {},
          "execution_count": 130
        }
      ]
    },
    {
      "cell_type": "code",
      "source": [
        "df.describe()"
      ],
      "metadata": {
        "colab": {
          "base_uri": "https://localhost:8080/",
          "height": 300
        },
        "id": "hZ4HIXFAZ4hh",
        "outputId": "3f0eaf30-cf79-4691-a02f-cfa682fabf96"
      },
      "execution_count": 131,
      "outputs": [
        {
          "output_type": "execute_result",
          "data": {
            "text/plain": [
              "             CRIM          ZN       INDUS        CHAS         NOX          RM  \\\n",
              "count  506.000000  506.000000  506.000000  506.000000  506.000000  506.000000   \n",
              "mean     3.613524   11.363636   11.136779    0.069170    0.554695    6.284634   \n",
              "std      8.601545   23.322453    6.860353    0.253994    0.115878    0.702617   \n",
              "min      0.006320    0.000000    0.460000    0.000000    0.385000    3.561000   \n",
              "25%      0.082045    0.000000    5.190000    0.000000    0.449000    5.885500   \n",
              "50%      0.256510    0.000000    9.690000    0.000000    0.538000    6.208500   \n",
              "75%      3.677083   12.500000   18.100000    0.000000    0.624000    6.623500   \n",
              "max     88.976200  100.000000   27.740000    1.000000    0.871000    8.780000   \n",
              "\n",
              "              AGE         DIS         RAD         TAX     PTRATIO           B  \\\n",
              "count  506.000000  506.000000  506.000000  506.000000  506.000000  506.000000   \n",
              "mean    68.574901    3.795043    9.549407  408.237154   18.455534  356.674032   \n",
              "std     28.148861    2.105710    8.707259  168.537116    2.164946   91.294864   \n",
              "min      2.900000    1.129600    1.000000  187.000000   12.600000    0.320000   \n",
              "25%     45.025000    2.100175    4.000000  279.000000   17.400000  375.377500   \n",
              "50%     77.500000    3.207450    5.000000  330.000000   19.050000  391.440000   \n",
              "75%     94.075000    5.188425   24.000000  666.000000   20.200000  396.225000   \n",
              "max    100.000000   12.126500   24.000000  711.000000   22.000000  396.900000   \n",
              "\n",
              "            LSTAT      target  \n",
              "count  506.000000  506.000000  \n",
              "mean    12.653063   22.532806  \n",
              "std      7.141062    9.197104  \n",
              "min      1.730000    5.000000  \n",
              "25%      6.950000   17.025000  \n",
              "50%     11.360000   21.200000  \n",
              "75%     16.955000   25.000000  \n",
              "max     37.970000   50.000000  "
            ],
            "text/html": [
              "\n",
              "  <div id=\"df-61b180ea-e68b-416e-83a3-2f40adbedf99\">\n",
              "    <div class=\"colab-df-container\">\n",
              "      <div>\n",
              "<style scoped>\n",
              "    .dataframe tbody tr th:only-of-type {\n",
              "        vertical-align: middle;\n",
              "    }\n",
              "\n",
              "    .dataframe tbody tr th {\n",
              "        vertical-align: top;\n",
              "    }\n",
              "\n",
              "    .dataframe thead th {\n",
              "        text-align: right;\n",
              "    }\n",
              "</style>\n",
              "<table border=\"1\" class=\"dataframe\">\n",
              "  <thead>\n",
              "    <tr style=\"text-align: right;\">\n",
              "      <th></th>\n",
              "      <th>CRIM</th>\n",
              "      <th>ZN</th>\n",
              "      <th>INDUS</th>\n",
              "      <th>CHAS</th>\n",
              "      <th>NOX</th>\n",
              "      <th>RM</th>\n",
              "      <th>AGE</th>\n",
              "      <th>DIS</th>\n",
              "      <th>RAD</th>\n",
              "      <th>TAX</th>\n",
              "      <th>PTRATIO</th>\n",
              "      <th>B</th>\n",
              "      <th>LSTAT</th>\n",
              "      <th>target</th>\n",
              "    </tr>\n",
              "  </thead>\n",
              "  <tbody>\n",
              "    <tr>\n",
              "      <th>count</th>\n",
              "      <td>506.000000</td>\n",
              "      <td>506.000000</td>\n",
              "      <td>506.000000</td>\n",
              "      <td>506.000000</td>\n",
              "      <td>506.000000</td>\n",
              "      <td>506.000000</td>\n",
              "      <td>506.000000</td>\n",
              "      <td>506.000000</td>\n",
              "      <td>506.000000</td>\n",
              "      <td>506.000000</td>\n",
              "      <td>506.000000</td>\n",
              "      <td>506.000000</td>\n",
              "      <td>506.000000</td>\n",
              "      <td>506.000000</td>\n",
              "    </tr>\n",
              "    <tr>\n",
              "      <th>mean</th>\n",
              "      <td>3.613524</td>\n",
              "      <td>11.363636</td>\n",
              "      <td>11.136779</td>\n",
              "      <td>0.069170</td>\n",
              "      <td>0.554695</td>\n",
              "      <td>6.284634</td>\n",
              "      <td>68.574901</td>\n",
              "      <td>3.795043</td>\n",
              "      <td>9.549407</td>\n",
              "      <td>408.237154</td>\n",
              "      <td>18.455534</td>\n",
              "      <td>356.674032</td>\n",
              "      <td>12.653063</td>\n",
              "      <td>22.532806</td>\n",
              "    </tr>\n",
              "    <tr>\n",
              "      <th>std</th>\n",
              "      <td>8.601545</td>\n",
              "      <td>23.322453</td>\n",
              "      <td>6.860353</td>\n",
              "      <td>0.253994</td>\n",
              "      <td>0.115878</td>\n",
              "      <td>0.702617</td>\n",
              "      <td>28.148861</td>\n",
              "      <td>2.105710</td>\n",
              "      <td>8.707259</td>\n",
              "      <td>168.537116</td>\n",
              "      <td>2.164946</td>\n",
              "      <td>91.294864</td>\n",
              "      <td>7.141062</td>\n",
              "      <td>9.197104</td>\n",
              "    </tr>\n",
              "    <tr>\n",
              "      <th>min</th>\n",
              "      <td>0.006320</td>\n",
              "      <td>0.000000</td>\n",
              "      <td>0.460000</td>\n",
              "      <td>0.000000</td>\n",
              "      <td>0.385000</td>\n",
              "      <td>3.561000</td>\n",
              "      <td>2.900000</td>\n",
              "      <td>1.129600</td>\n",
              "      <td>1.000000</td>\n",
              "      <td>187.000000</td>\n",
              "      <td>12.600000</td>\n",
              "      <td>0.320000</td>\n",
              "      <td>1.730000</td>\n",
              "      <td>5.000000</td>\n",
              "    </tr>\n",
              "    <tr>\n",
              "      <th>25%</th>\n",
              "      <td>0.082045</td>\n",
              "      <td>0.000000</td>\n",
              "      <td>5.190000</td>\n",
              "      <td>0.000000</td>\n",
              "      <td>0.449000</td>\n",
              "      <td>5.885500</td>\n",
              "      <td>45.025000</td>\n",
              "      <td>2.100175</td>\n",
              "      <td>4.000000</td>\n",
              "      <td>279.000000</td>\n",
              "      <td>17.400000</td>\n",
              "      <td>375.377500</td>\n",
              "      <td>6.950000</td>\n",
              "      <td>17.025000</td>\n",
              "    </tr>\n",
              "    <tr>\n",
              "      <th>50%</th>\n",
              "      <td>0.256510</td>\n",
              "      <td>0.000000</td>\n",
              "      <td>9.690000</td>\n",
              "      <td>0.000000</td>\n",
              "      <td>0.538000</td>\n",
              "      <td>6.208500</td>\n",
              "      <td>77.500000</td>\n",
              "      <td>3.207450</td>\n",
              "      <td>5.000000</td>\n",
              "      <td>330.000000</td>\n",
              "      <td>19.050000</td>\n",
              "      <td>391.440000</td>\n",
              "      <td>11.360000</td>\n",
              "      <td>21.200000</td>\n",
              "    </tr>\n",
              "    <tr>\n",
              "      <th>75%</th>\n",
              "      <td>3.677083</td>\n",
              "      <td>12.500000</td>\n",
              "      <td>18.100000</td>\n",
              "      <td>0.000000</td>\n",
              "      <td>0.624000</td>\n",
              "      <td>6.623500</td>\n",
              "      <td>94.075000</td>\n",
              "      <td>5.188425</td>\n",
              "      <td>24.000000</td>\n",
              "      <td>666.000000</td>\n",
              "      <td>20.200000</td>\n",
              "      <td>396.225000</td>\n",
              "      <td>16.955000</td>\n",
              "      <td>25.000000</td>\n",
              "    </tr>\n",
              "    <tr>\n",
              "      <th>max</th>\n",
              "      <td>88.976200</td>\n",
              "      <td>100.000000</td>\n",
              "      <td>27.740000</td>\n",
              "      <td>1.000000</td>\n",
              "      <td>0.871000</td>\n",
              "      <td>8.780000</td>\n",
              "      <td>100.000000</td>\n",
              "      <td>12.126500</td>\n",
              "      <td>24.000000</td>\n",
              "      <td>711.000000</td>\n",
              "      <td>22.000000</td>\n",
              "      <td>396.900000</td>\n",
              "      <td>37.970000</td>\n",
              "      <td>50.000000</td>\n",
              "    </tr>\n",
              "  </tbody>\n",
              "</table>\n",
              "</div>\n",
              "      <button class=\"colab-df-convert\" onclick=\"convertToInteractive('df-61b180ea-e68b-416e-83a3-2f40adbedf99')\"\n",
              "              title=\"Convert this dataframe to an interactive table.\"\n",
              "              style=\"display:none;\">\n",
              "        \n",
              "  <svg xmlns=\"http://www.w3.org/2000/svg\" height=\"24px\"viewBox=\"0 0 24 24\"\n",
              "       width=\"24px\">\n",
              "    <path d=\"M0 0h24v24H0V0z\" fill=\"none\"/>\n",
              "    <path d=\"M18.56 5.44l.94 2.06.94-2.06 2.06-.94-2.06-.94-.94-2.06-.94 2.06-2.06.94zm-11 1L8.5 8.5l.94-2.06 2.06-.94-2.06-.94L8.5 2.5l-.94 2.06-2.06.94zm10 10l.94 2.06.94-2.06 2.06-.94-2.06-.94-.94-2.06-.94 2.06-2.06.94z\"/><path d=\"M17.41 7.96l-1.37-1.37c-.4-.4-.92-.59-1.43-.59-.52 0-1.04.2-1.43.59L10.3 9.45l-7.72 7.72c-.78.78-.78 2.05 0 2.83L4 21.41c.39.39.9.59 1.41.59.51 0 1.02-.2 1.41-.59l7.78-7.78 2.81-2.81c.8-.78.8-2.07 0-2.86zM5.41 20L4 18.59l7.72-7.72 1.47 1.35L5.41 20z\"/>\n",
              "  </svg>\n",
              "      </button>\n",
              "      \n",
              "  <style>\n",
              "    .colab-df-container {\n",
              "      display:flex;\n",
              "      flex-wrap:wrap;\n",
              "      gap: 12px;\n",
              "    }\n",
              "\n",
              "    .colab-df-convert {\n",
              "      background-color: #E8F0FE;\n",
              "      border: none;\n",
              "      border-radius: 50%;\n",
              "      cursor: pointer;\n",
              "      display: none;\n",
              "      fill: #1967D2;\n",
              "      height: 32px;\n",
              "      padding: 0 0 0 0;\n",
              "      width: 32px;\n",
              "    }\n",
              "\n",
              "    .colab-df-convert:hover {\n",
              "      background-color: #E2EBFA;\n",
              "      box-shadow: 0px 1px 2px rgba(60, 64, 67, 0.3), 0px 1px 3px 1px rgba(60, 64, 67, 0.15);\n",
              "      fill: #174EA6;\n",
              "    }\n",
              "\n",
              "    [theme=dark] .colab-df-convert {\n",
              "      background-color: #3B4455;\n",
              "      fill: #D2E3FC;\n",
              "    }\n",
              "\n",
              "    [theme=dark] .colab-df-convert:hover {\n",
              "      background-color: #434B5C;\n",
              "      box-shadow: 0px 1px 3px 1px rgba(0, 0, 0, 0.15);\n",
              "      filter: drop-shadow(0px 1px 2px rgba(0, 0, 0, 0.3));\n",
              "      fill: #FFFFFF;\n",
              "    }\n",
              "  </style>\n",
              "\n",
              "      <script>\n",
              "        const buttonEl =\n",
              "          document.querySelector('#df-61b180ea-e68b-416e-83a3-2f40adbedf99 button.colab-df-convert');\n",
              "        buttonEl.style.display =\n",
              "          google.colab.kernel.accessAllowed ? 'block' : 'none';\n",
              "\n",
              "        async function convertToInteractive(key) {\n",
              "          const element = document.querySelector('#df-61b180ea-e68b-416e-83a3-2f40adbedf99');\n",
              "          const dataTable =\n",
              "            await google.colab.kernel.invokeFunction('convertToInteractive',\n",
              "                                                     [key], {});\n",
              "          if (!dataTable) return;\n",
              "\n",
              "          const docLinkHtml = 'Like what you see? Visit the ' +\n",
              "            '<a target=\"_blank\" href=https://colab.research.google.com/notebooks/data_table.ipynb>data table notebook</a>'\n",
              "            + ' to learn more about interactive tables.';\n",
              "          element.innerHTML = '';\n",
              "          dataTable['output_type'] = 'display_data';\n",
              "          await google.colab.output.renderOutput(dataTable, element);\n",
              "          const docLink = document.createElement('div');\n",
              "          docLink.innerHTML = docLinkHtml;\n",
              "          element.appendChild(docLink);\n",
              "        }\n",
              "      </script>\n",
              "    </div>\n",
              "  </div>\n",
              "  "
            ]
          },
          "metadata": {},
          "execution_count": 131
        }
      ]
    },
    {
      "cell_type": "code",
      "source": [
        "sns.histplot(df['target'], bins=30)\n",
        "plt.show()"
      ],
      "metadata": {
        "colab": {
          "base_uri": "https://localhost:8080/",
          "height": 279
        },
        "id": "SGdWETydgL6T",
        "outputId": "649956e3-e1c0-410b-e1a1-d175d35b2d24"
      },
      "execution_count": 132,
      "outputs": [
        {
          "output_type": "display_data",
          "data": {
            "text/plain": [
              "<Figure size 432x288 with 1 Axes>"
            ],
            "image/png": "[encoded data removed]"
          },
          "metadata": {
            "needs_background": "light"
          }
        }
      ]
    },
    {
      "cell_type": "markdown",
      "source": [
        "We see that the target values are distributed normally with few outliers."
      ],
      "metadata": {
        "id": "wg3Ycv4-g1gr"
      }
    },
    {
      "cell_type": "code",
      "source": [
        "cols = ['CRIM', 'ZN', 'INDUS', 'CHAS', 'NOX', 'RM', 'AGE', 'DIS', 'RAD','TAX', 'PTRATIO', 'B', 'LSTAT']\n",
        "\n",
        "plt.figure(figsize=(15, 10))\n",
        "count = 1\n",
        "for i in df[cols]:\n",
        "  plt.subplot(5,3,count)\n",
        "  sns.boxplot(x=i, data = df)\n",
        "  count= count+1\n",
        "plt.show()"
      ],
      "metadata": {
        "colab": {
          "base_uri": "https://localhost:8080/",
          "height": 606
        },
        "id": "cvlM5mJJoTrh",
        "outputId": "6d5c3bc1-70ce-4e0e-a5b9-0b561e2764e0"
      },
      "execution_count": 133,
      "outputs": [
        {
          "output_type": "display_data",
          "data": {
            "text/plain": [
              "<Figure size 1080x720 with 13 Axes>"
            ],
            "image/png": "[encoded data removed]"
          },
          "metadata": {
            "needs_background": "light"
          }
        }
      ]
    },
    {
      "cell_type": "code",
      "source": [
        "X = df.drop(columns = ['target'])\n",
        "y = df.iloc[:,-1]"
      ],
      "metadata": {
        "id": "vFiE-86wbSpj"
      },
      "execution_count": 134,
      "outputs": []
    },
    {
      "cell_type": "code",
      "source": [
        "from sklearn.model_selection import train_test_split\n",
        "X_train, X_test , y_train , y_test = train_test_split(X,y, test_size = 0.2 , random_state = 16)"
      ],
      "metadata": {
        "id": "6JZ-WZ3RbG76"
      },
      "execution_count": 135,
      "outputs": []
    },
    {
      "cell_type": "code",
      "source": [
        "print(\"Size of training data : \", X_train.shape)\n",
        "print(\"Size of testing data : \", X_test.shape)"
      ],
      "metadata": {
        "colab": {
          "base_uri": "https://localhost:8080/"
        },
        "id": "Agg3_q7AcEp4",
        "outputId": "7f79dae6-3759-4781-8771-8b5704889c5d"
      },
      "execution_count": 136,
      "outputs": [
        {
          "output_type": "stream",
          "name": "stdout",
          "text": [
            "Size of training data :  (404, 13)\n",
            "Size of testing data :  (102, 13)\n"
          ]
        }
      ]
    },
    {
      "cell_type": "markdown",
      "source": [
        "#### Scaling the features of the dataset: "
      ],
      "metadata": {
        "id": "4rs2LXS3aYDg"
      }
    },
    {
      "cell_type": "code",
      "source": [
        "from sklearn.preprocessing import StandardScaler\n",
        "scaler = StandardScaler()\n",
        "X_train =pd.DataFrame(data = scaler.fit_transform(X_train) , columns = X_train.columns)\n",
        "X_test = pd.DataFrame(data = scaler.transform(X_test) , columns = X_test.columns) "
      ],
      "metadata": {
        "id": "hA3QW5PIaMa6"
      },
      "execution_count": 137,
      "outputs": []
    },
    {
      "cell_type": "markdown",
      "source": [
        "## Linear Regression"
      ],
      "metadata": {
        "id": "giApkH5YmPT2"
      }
    },
    {
      "cell_type": "code",
      "source": [
        "from sklearn.linear_model import LinearRegression\n",
        "lr = LinearRegression()\n",
        "lr.fit(X_train,y_train)"
      ],
      "metadata": {
        "colab": {
          "base_uri": "https://localhost:8080/"
        },
        "id": "E_28zVFQckcv",
        "outputId": "e171a047-9e37-428b-e78d-ee771b597229"
      },
      "execution_count": 153,
      "outputs": [
        {
          "output_type": "execute_result",
          "data": {
            "text/plain": [
              "LinearRegression()"
            ]
          },
          "metadata": {},
          "execution_count": 153
        }
      ]
    },
    {
      "cell_type": "code",
      "source": [
        "lr_train_pred = lr.predict(X_train)\n",
        "lr_test_pred = lr.predict(X_test)"
      ],
      "metadata": {
        "id": "7kK9pplPftWp"
      },
      "execution_count": 154,
      "outputs": []
    },
    {
      "cell_type": "code",
      "source": [
        "from sklearn.metrics import mean_squared_error,r2_score"
      ],
      "metadata": {
        "id": "v6Pmy3nRhXUl"
      },
      "execution_count": 140,
      "outputs": []
    },
    {
      "cell_type": "code",
      "source": [
        "rmse_train = (np.sqrt(mean_squared_error(y_train, lr_train_pred)))\n",
        "r2_train = r2_score(y_train, lr_train_pred)\n",
        "\n",
        "rmse_test = (np.sqrt(mean_squared_error(y_test, lr_test_pred)))\n",
        "r2_test = r2_score(y_test, lr_test_pred)"
      ],
      "metadata": {
        "id": "6O9e53GrhUz-"
      },
      "execution_count": 141,
      "outputs": []
    },
    {
      "cell_type": "code",
      "source": [
        "print(\"The model performance for training set\")\n",
        "print(\"--------------------------------------\")\n",
        "print('RMSE is {}'.format(rmse_train))\n",
        "print('R2 score is {}'.format(r2_train))\n",
        "print(\"\\n\")\n",
        "print(\"The model performance for testing set\")\n",
        "print(\"--------------------------------------\")\n",
        "print('RMSE is {}'.format(rmse_test))\n",
        "print('R2 score is {}'.format(r2_test))\n",
        "print(\"\\n\")"
      ],
      "metadata": {
        "colab": {
          "base_uri": "https://localhost:8080/"
        },
        "id": "oOdY6cOth-15",
        "outputId": "95b00749-fb8b-4512-d744-39ef42f69333"
      },
      "execution_count": 142,
      "outputs": [
        {
          "output_type": "stream",
          "name": "stdout",
          "text": [
            "The model performance for training set\n",
            "--------------------------------------\n",
            "RMSE is 4.703640994206212\n",
            "R2 score is 0.7470134564210326\n",
            "\n",
            "\n",
            "The model performance for testing set\n",
            "--------------------------------------\n",
            "RMSE is 4.840600162503299\n",
            "R2 score is 0.6459447222017658\n",
            "\n",
            "\n"
          ]
        }
      ]
    },
    {
      "cell_type": "markdown",
      "source": [
        "## Lasso Regression"
      ],
      "metadata": {
        "id": "IHw0a5Hcmn_t"
      }
    },
    {
      "cell_type": "code",
      "source": [
        "from sklearn.linear_model import Lasso\n",
        "lasso = Lasso()\n",
        "lasso.fit(X_train,y_train)"
      ],
      "metadata": {
        "colab": {
          "base_uri": "https://localhost:8080/"
        },
        "id": "2z1ZXMnMmnm9",
        "outputId": "559ab0e0-e5c3-4337-ee3f-a674eddee15d"
      },
      "execution_count": 143,
      "outputs": [
        {
          "output_type": "execute_result",
          "data": {
            "text/plain": [
              "Lasso()"
            ]
          },
          "metadata": {},
          "execution_count": 143
        }
      ]
    },
    {
      "cell_type": "code",
      "source": [
        "lasso_train_pred = lasso.predict(X_train)\n",
        "lasso_test_pred = lasso.predict(X_test)"
      ],
      "metadata": {
        "id": "QPAlWImKiMPT"
      },
      "execution_count": 144,
      "outputs": []
    },
    {
      "cell_type": "code",
      "source": [
        "rmse_train = (np.sqrt(mean_squared_error(y_train, lasso_train_pred)))\n",
        "r2_train = r2_score(y_train, lasso_train_pred)\n",
        "\n",
        "rmse_test = (np.sqrt(mean_squared_error(y_test, lasso_test_pred)))\n",
        "r2_test = r2_score(y_test, lasso_test_pred)"
      ],
      "metadata": {
        "id": "j54azpMTnXgL"
      },
      "execution_count": 145,
      "outputs": []
    },
    {
      "cell_type": "code",
      "source": [
        "print(\"The model performance for training set\")\n",
        "print(\"--------------------------------------\")\n",
        "print('RMSE is {}'.format(rmse_train))\n",
        "print('R2 score is {}'.format(r2_train))\n",
        "print(\"\\n\")\n",
        "print(\"The model performance for testing set\")\n",
        "print(\"--------------------------------------\")\n",
        "print('RMSE is {}'.format(rmse_test))\n",
        "print('R2 score is {}'.format(r2_test))\n",
        "print(\"\\n\")"
      ],
      "metadata": {
        "colab": {
          "base_uri": "https://localhost:8080/"
        },
        "id": "UbHZC6ipnlTG",
        "outputId": "4f9aa87e-5c10-48b7-8380-8aaae5310e0b"
      },
      "execution_count": 146,
      "outputs": [
        {
          "output_type": "stream",
          "name": "stdout",
          "text": [
            "The model performance for training set\n",
            "--------------------------------------\n",
            "RMSE is 5.361259753177745\n",
            "R2 score is 0.6713279401369019\n",
            "\n",
            "\n",
            "The model performance for testing set\n",
            "--------------------------------------\n",
            "RMSE is 4.835620154200446\n",
            "R2 score is 0.6466728514316072\n",
            "\n",
            "\n"
          ]
        }
      ]
    },
    {
      "cell_type": "markdown",
      "source": [
        "## Ridge Regression"
      ],
      "metadata": {
        "id": "hdzHZEQFntJY"
      }
    },
    {
      "cell_type": "code",
      "source": [
        "from sklearn.linear_model import Ridge\n",
        "ridge = Ridge()\n",
        "ridge.fit(X_train,y_train)"
      ],
      "metadata": {
        "colab": {
          "base_uri": "https://localhost:8080/"
        },
        "id": "KufxMdEfnpg6",
        "outputId": "a6248331-3533-48fa-ddef-3a4163cf9acc"
      },
      "execution_count": 147,
      "outputs": [
        {
          "output_type": "execute_result",
          "data": {
            "text/plain": [
              "Ridge()"
            ]
          },
          "metadata": {},
          "execution_count": 147
        }
      ]
    },
    {
      "cell_type": "code",
      "source": [
        "ridge_train_pred = ridge.predict(X_train)\n",
        "ridge_test_pred =ridge.predict(X_test)"
      ],
      "metadata": {
        "id": "u6CN5PzmpWvG"
      },
      "execution_count": 148,
      "outputs": []
    },
    {
      "cell_type": "code",
      "source": [
        "rmse_train = (np.sqrt(mean_squared_error(y_train, ridge_train_pred)))\n",
        "r2_train = r2_score(y_train, ridge_train_pred)\n",
        "\n",
        "rmse_test = (np.sqrt(mean_squared_error(y_test, ridge_test_pred)))\n",
        "r2_test = r2_score(y_test, ridge_test_pred)"
      ],
      "metadata": {
        "id": "kUh_ccrupe2c"
      },
      "execution_count": 149,
      "outputs": []
    },
    {
      "cell_type": "code",
      "source": [
        "rmse_train = (np.sqrt(mean_squared_error(y_train, lasso_train_pred)))\n",
        "r2_train = r2_score(y_train, lasso_train_pred)\n",
        "\n",
        "rmse_test = (np.sqrt(mean_squared_error(y_test, lasso_test_pred)))\n",
        "r2_test = r2_score(y_test, lasso_test_pred)"
      ],
      "metadata": {
        "id": "M0WVYw1Tpqr_"
      },
      "execution_count": 150,
      "outputs": []
    },
    {
      "cell_type": "code",
      "source": [
        "print(\"The model performance for training set\")\n",
        "print(\"--------------------------------------\")\n",
        "print('RMSE is {}'.format(rmse_train))\n",
        "print('R2 score is {}'.format(r2_train))\n",
        "print(\"\\n\")\n",
        "print(\"The model performance for testing set\")\n",
        "print(\"--------------------------------------\")\n",
        "print('RMSE is {}'.format(rmse_test))\n",
        "print('R2 score is {}'.format(r2_test))\n",
        "print(\"\\n\")"
      ],
      "metadata": {
        "colab": {
          "base_uri": "https://localhost:8080/"
        },
        "outputId": "0d0b3e46-1447-43c1-ddaf-5ab69e131a75",
        "id": "5CRL0Oc3pytY"
      },
      "execution_count": 151,
      "outputs": [
        {
          "output_type": "stream",
          "name": "stdout",
          "text": [
            "The model performance for training set\n",
            "--------------------------------------\n",
            "RMSE is 5.361259753177745\n",
            "R2 score is 0.6713279401369019\n",
            "\n",
            "\n",
            "The model performance for testing set\n",
            "--------------------------------------\n",
            "RMSE is 4.835620154200446\n",
            "R2 score is 0.6466728514316072\n",
            "\n",
            "\n"
          ]
        }
      ]
    },
    {
      "cell_type": "markdown",
      "source": [
        "## Random Forest Regressor"
      ],
      "metadata": {
        "id": "IvzPzBByDFIY"
      }
    },
    {
      "cell_type": "code",
      "source": [
        "from sklearn.ensemble import RandomForestRegressor\n",
        "rf = RandomForestRegressor()\n",
        "rf.fit(X_train, y_train)"
      ],
      "metadata": {
        "colab": {
          "base_uri": "https://localhost:8080/"
        },
        "id": "xCPycMfmFrsZ",
        "outputId": "99b51d00-194a-4dc2-8235-a7b6546011e7"
      },
      "execution_count": 163,
      "outputs": [
        {
          "output_type": "execute_result",
          "data": {
            "text/plain": [
              "RandomForestRegressor()"
            ]
          },
          "metadata": {},
          "execution_count": 163
        }
      ]
    },
    {
      "cell_type": "code",
      "source": [
        "rf_mse = mean_squared_error(y_test, rf.predict(X_test))\n",
        "rf_r2 = r2_score(y_test, rf.predict(X_test))\n",
        "print(f\"MSE: {rf_mse}\\nR2 Score: {rf_r2}\")"
      ],
      "metadata": {
        "colab": {
          "base_uri": "https://localhost:8080/"
        },
        "id": "BcPFCTDRSbTr",
        "outputId": "006bae8c-e65e-409b-bbc3-61eac68ccf89"
      },
      "execution_count": 164,
      "outputs": [
        {
          "output_type": "stream",
          "name": "stdout",
          "text": [
            "MSE: 8.048773519607845\n",
            "R2 Score: 0.878380739676327\n"
          ]
        }
      ]
    },
    {
      "cell_type": "code",
      "source": [
        "grid_rf = {'n_estimators':[100, 150, 200], \n",
        "            'criterion':['squared_error', 'absolute_error'], \n",
        "            'n_jobs':[-1],\n",
        "            'ccp_alpha':[0, 0.5, 1, 1.5, 2]}\n",
        "model_rf = RandomizedSearchCV(rf, grid_rf, cv = 3, verbose=4, n_jobs=-1, random_state = 50)\n",
        "model_rf.fit(X_train, y_train)"
      ],
      "metadata": {
        "colab": {
          "base_uri": "https://localhost:8080/"
        },
        "id": "_VnuMPbHSm6n",
        "outputId": "9795fee0-b0b2-4b4f-efa0-c7bdd2cdc1d6"
      },
      "execution_count": 165,
      "outputs": [
        {
          "output_type": "stream",
          "name": "stdout",
          "text": [
            "Fitting 3 folds for each of 10 candidates, totalling 30 fits\n"
          ]
        },
        {
          "output_type": "execute_result",
          "data": {
            "text/plain": [
              "RandomizedSearchCV(cv=3, estimator=RandomForestRegressor(), n_jobs=-1,\n",
              "                   param_distributions={'ccp_alpha': [0, 0.5, 1, 1.5, 2],\n",
              "                                        'criterion': ['squared_error',\n",
              "                                                      'absolute_error'],\n",
              "                                        'n_estimators': [100, 150, 200],\n",
              "                                        'n_jobs': [-1]},\n",
              "                   random_state=50, verbose=4)"
            ]
          },
          "metadata": {},
          "execution_count": 165
        }
      ]
    },
    {
      "cell_type": "code",
      "source": [
        "modelrf_mse = mean_squared_error(y_test, model_rf.predict(X_test))\n",
        "modelrf_r2 = r2_score(y_test, model_rf.predict(X_test))\n",
        "print(f\"MSE: {modelrf_mse}\\nR2 Score: {modelrf_r2}\")"
      ],
      "metadata": {
        "colab": {
          "base_uri": "https://localhost:8080/"
        },
        "id": "DbrtSgs5SuNx",
        "outputId": "0ffc36d0-9258-415c-fcba-6e600466ca80"
      },
      "execution_count": 166,
      "outputs": [
        {
          "output_type": "stream",
          "name": "stdout",
          "text": [
            "MSE: 9.784226543196198\n",
            "R2 Score: 0.8521575502001768\n"
          ]
        }
      ]
    },
    {
      "cell_type": "markdown",
      "source": [
        "## KNN "
      ],
      "metadata": {
        "id": "ej6baRqORRkQ"
      }
    },
    {
      "cell_type": "code",
      "source": [
        "from sklearn.neighbors import KNeighborsRegressor\n",
        "knn = KNeighborsRegressor()\n",
        "knn.fit(X_train, y_train)"
      ],
      "metadata": {
        "colab": {
          "base_uri": "https://localhost:8080/"
        },
        "id": "4hsCOJDvRSvc",
        "outputId": "3507508b-f45c-4dec-8908-decde1667c4c"
      },
      "execution_count": 157,
      "outputs": [
        {
          "output_type": "execute_result",
          "data": {
            "text/plain": [
              "KNeighborsRegressor()"
            ]
          },
          "metadata": {},
          "execution_count": 157
        }
      ]
    },
    {
      "cell_type": "code",
      "source": [
        "knn_mse = mean_squared_error(y_test, knn.predict(X_test))\n",
        "knn_r2 = r2_score(y_test, knn.predict(X_test))\n",
        "print(f\"MSE: {knn_mse}\\nR2 Score: {knn_r2}\")"
      ],
      "metadata": {
        "colab": {
          "base_uri": "https://localhost:8080/"
        },
        "id": "SAap6vS1RZQp",
        "outputId": "9fa96145-355d-4b80-b8e6-c312fc256933"
      },
      "execution_count": 160,
      "outputs": [
        {
          "output_type": "stream",
          "name": "stdout",
          "text": [
            "MSE: 14.016941176470581\n",
            "R2 Score: 0.7882000265344968\n"
          ]
        }
      ]
    },
    {
      "cell_type": "code",
      "source": [
        "from sklearn.model_selection import GridSearchCV,RandomizedSearchCV"
      ],
      "metadata": {
        "id": "6KyjQFIpRkTU"
      },
      "execution_count": 159,
      "outputs": []
    },
    {
      "cell_type": "code",
      "source": [
        "grid_knn = {'n_neighbors':[5, 6, 7], \n",
        "            'weights':['uniform', 'distance'], \n",
        "            'p':[1, 2, 3], \n",
        "            'n_jobs':[-1]}\n",
        "model_knn = GridSearchCV(knn, grid_knn, cv = 5, verbose = 4)\n",
        "model_knn.fit(X_train, y_train)"
      ],
      "metadata": {
        "colab": {
          "base_uri": "https://localhost:8080/"
        },
        "id": "Sm3v2ctaRrcq",
        "outputId": "fcfb16fb-3957-426c-e40e-7c0a4ffcd1b1"
      },
      "execution_count": 161,
      "outputs": [
        {
          "output_type": "stream",
          "name": "stdout",
          "text": [
            "Fitting 5 folds for each of 18 candidates, totalling 90 fits\n",
            "[CV 1/5] END n_jobs=-1, n_neighbors=5, p=1, weights=uniform;, score=0.766 total time=   1.7s\n",
            "[CV 2/5] END n_jobs=-1, n_neighbors=5, p=1, weights=uniform;, score=0.823 total time=   0.0s\n",
            "[CV 3/5] END n_jobs=-1, n_neighbors=5, p=1, weights=uniform;, score=0.723 total time=   0.0s\n",
            "[CV 4/5] END n_jobs=-1, n_neighbors=5, p=1, weights=uniform;, score=0.693 total time=   0.0s\n",
            "[CV 5/5] END n_jobs=-1, n_neighbors=5, p=1, weights=uniform;, score=0.729 total time=   0.0s\n",
            "[CV 1/5] END n_jobs=-1, n_neighbors=5, p=1, weights=distance;, score=0.796 total time=   0.0s\n",
            "[CV 2/5] END n_jobs=-1, n_neighbors=5, p=1, weights=distance;, score=0.857 total time=   0.0s\n",
            "[CV 3/5] END n_jobs=-1, n_neighbors=5, p=1, weights=distance;, score=0.765 total time=   0.0s\n",
            "[CV 4/5] END n_jobs=-1, n_neighbors=5, p=1, weights=distance;, score=0.717 total time=   0.0s\n",
            "[CV 5/5] END n_jobs=-1, n_neighbors=5, p=1, weights=distance;, score=0.749 total time=   0.0s\n",
            "[CV 1/5] END n_jobs=-1, n_neighbors=5, p=2, weights=uniform;, score=0.717 total time=   0.0s\n",
            "[CV 2/5] END n_jobs=-1, n_neighbors=5, p=2, weights=uniform;, score=0.775 total time=   0.0s\n",
            "[CV 3/5] END n_jobs=-1, n_neighbors=5, p=2, weights=uniform;, score=0.760 total time=   0.0s\n",
            "[CV 4/5] END n_jobs=-1, n_neighbors=5, p=2, weights=uniform;, score=0.628 total time=   0.0s\n",
            "[CV 5/5] END n_jobs=-1, n_neighbors=5, p=2, weights=uniform;, score=0.738 total time=   0.0s\n",
            "[CV 1/5] END n_jobs=-1, n_neighbors=5, p=2, weights=distance;, score=0.766 total time=   0.0s\n",
            "[CV 2/5] END n_jobs=-1, n_neighbors=5, p=2, weights=distance;, score=0.830 total time=   0.0s\n",
            "[CV 3/5] END n_jobs=-1, n_neighbors=5, p=2, weights=distance;, score=0.787 total time=   0.0s\n",
            "[CV 4/5] END n_jobs=-1, n_neighbors=5, p=2, weights=distance;, score=0.651 total time=   0.0s\n",
            "[CV 5/5] END n_jobs=-1, n_neighbors=5, p=2, weights=distance;, score=0.758 total time=   0.0s\n",
            "[CV 1/5] END n_jobs=-1, n_neighbors=5, p=3, weights=uniform;, score=0.744 total time=   0.1s\n",
            "[CV 2/5] END n_jobs=-1, n_neighbors=5, p=3, weights=uniform;, score=0.749 total time=   0.1s\n",
            "[CV 3/5] END n_jobs=-1, n_neighbors=5, p=3, weights=uniform;, score=0.753 total time=   0.0s\n",
            "[CV 4/5] END n_jobs=-1, n_neighbors=5, p=3, weights=uniform;, score=0.587 total time=   0.0s\n",
            "[CV 5/5] END n_jobs=-1, n_neighbors=5, p=3, weights=uniform;, score=0.727 total time=   0.0s\n",
            "[CV 1/5] END n_jobs=-1, n_neighbors=5, p=3, weights=distance;, score=0.788 total time=   0.0s\n",
            "[CV 2/5] END n_jobs=-1, n_neighbors=5, p=3, weights=distance;, score=0.814 total time=   0.0s\n",
            "[CV 3/5] END n_jobs=-1, n_neighbors=5, p=3, weights=distance;, score=0.778 total time=   0.0s\n",
            "[CV 4/5] END n_jobs=-1, n_neighbors=5, p=3, weights=distance;, score=0.606 total time=   0.0s\n",
            "[CV 5/5] END n_jobs=-1, n_neighbors=5, p=3, weights=distance;, score=0.743 total time=   0.0s\n",
            "[CV 1/5] END n_jobs=-1, n_neighbors=6, p=1, weights=uniform;, score=0.765 total time=   0.0s\n",
            "[CV 2/5] END n_jobs=-1, n_neighbors=6, p=1, weights=uniform;, score=0.801 total time=   0.0s\n",
            "[CV 3/5] END n_jobs=-1, n_neighbors=6, p=1, weights=uniform;, score=0.695 total time=   0.0s\n",
            "[CV 4/5] END n_jobs=-1, n_neighbors=6, p=1, weights=uniform;, score=0.666 total time=   0.0s\n",
            "[CV 5/5] END n_jobs=-1, n_neighbors=6, p=1, weights=uniform;, score=0.722 total time=   0.0s\n",
            "[CV 1/5] END n_jobs=-1, n_neighbors=6, p=1, weights=distance;, score=0.796 total time=   0.0s\n",
            "[CV 2/5] END n_jobs=-1, n_neighbors=6, p=1, weights=distance;, score=0.851 total time=   0.0s\n",
            "[CV 3/5] END n_jobs=-1, n_neighbors=6, p=1, weights=distance;, score=0.745 total time=   0.0s\n",
            "[CV 4/5] END n_jobs=-1, n_neighbors=6, p=1, weights=distance;, score=0.707 total time=   0.0s\n",
            "[CV 5/5] END n_jobs=-1, n_neighbors=6, p=1, weights=distance;, score=0.751 total time=   0.0s\n",
            "[CV 1/5] END n_jobs=-1, n_neighbors=6, p=2, weights=uniform;, score=0.734 total time=   0.0s\n",
            "[CV 2/5] END n_jobs=-1, n_neighbors=6, p=2, weights=uniform;, score=0.780 total time=   0.1s\n",
            "[CV 3/5] END n_jobs=-1, n_neighbors=6, p=2, weights=uniform;, score=0.739 total time=   0.0s\n",
            "[CV 4/5] END n_jobs=-1, n_neighbors=6, p=2, weights=uniform;, score=0.613 total time=   0.0s\n",
            "[CV 5/5] END n_jobs=-1, n_neighbors=6, p=2, weights=uniform;, score=0.713 total time=   0.0s\n",
            "[CV 1/5] END n_jobs=-1, n_neighbors=6, p=2, weights=distance;, score=0.778 total time=   0.0s\n",
            "[CV 2/5] END n_jobs=-1, n_neighbors=6, p=2, weights=distance;, score=0.830 total time=   0.1s\n",
            "[CV 3/5] END n_jobs=-1, n_neighbors=6, p=2, weights=distance;, score=0.773 total time=   0.1s\n",
            "[CV 4/5] END n_jobs=-1, n_neighbors=6, p=2, weights=distance;, score=0.644 total time=   0.1s\n",
            "[CV 5/5] END n_jobs=-1, n_neighbors=6, p=2, weights=distance;, score=0.738 total time=   0.0s\n",
            "[CV 1/5] END n_jobs=-1, n_neighbors=6, p=3, weights=uniform;, score=0.750 total time=   0.0s\n",
            "[CV 2/5] END n_jobs=-1, n_neighbors=6, p=3, weights=uniform;, score=0.740 total time=   0.0s\n",
            "[CV 3/5] END n_jobs=-1, n_neighbors=6, p=3, weights=uniform;, score=0.733 total time=   0.0s\n",
            "[CV 4/5] END n_jobs=-1, n_neighbors=6, p=3, weights=uniform;, score=0.602 total time=   0.1s\n",
            "[CV 5/5] END n_jobs=-1, n_neighbors=6, p=3, weights=uniform;, score=0.715 total time=   0.1s\n",
            "[CV 1/5] END n_jobs=-1, n_neighbors=6, p=3, weights=distance;, score=0.786 total time=   0.1s\n",
            "[CV 2/5] END n_jobs=-1, n_neighbors=6, p=3, weights=distance;, score=0.803 total time=   0.0s\n",
            "[CV 3/5] END n_jobs=-1, n_neighbors=6, p=3, weights=distance;, score=0.764 total time=   0.0s\n",
            "[CV 4/5] END n_jobs=-1, n_neighbors=6, p=3, weights=distance;, score=0.618 total time=   0.0s\n",
            "[CV 5/5] END n_jobs=-1, n_neighbors=6, p=3, weights=distance;, score=0.737 total time=   0.0s\n",
            "[CV 1/5] END n_jobs=-1, n_neighbors=7, p=1, weights=uniform;, score=0.731 total time=   0.0s\n",
            "[CV 2/5] END n_jobs=-1, n_neighbors=7, p=1, weights=uniform;, score=0.775 total time=   0.0s\n",
            "[CV 3/5] END n_jobs=-1, n_neighbors=7, p=1, weights=uniform;, score=0.662 total time=   0.0s\n",
            "[CV 4/5] END n_jobs=-1, n_neighbors=7, p=1, weights=uniform;, score=0.654 total time=   0.0s\n",
            "[CV 5/5] END n_jobs=-1, n_neighbors=7, p=1, weights=uniform;, score=0.710 total time=   0.0s\n",
            "[CV 1/5] END n_jobs=-1, n_neighbors=7, p=1, weights=distance;, score=0.778 total time=   0.0s\n",
            "[CV 2/5] END n_jobs=-1, n_neighbors=7, p=1, weights=distance;, score=0.835 total time=   0.0s\n",
            "[CV 3/5] END n_jobs=-1, n_neighbors=7, p=1, weights=distance;, score=0.719 total time=   0.0s\n",
            "[CV 4/5] END n_jobs=-1, n_neighbors=7, p=1, weights=distance;, score=0.699 total time=   0.0s\n",
            "[CV 5/5] END n_jobs=-1, n_neighbors=7, p=1, weights=distance;, score=0.747 total time=   0.0s\n",
            "[CV 1/5] END n_jobs=-1, n_neighbors=7, p=2, weights=uniform;, score=0.743 total time=   0.0s\n",
            "[CV 2/5] END n_jobs=-1, n_neighbors=7, p=2, weights=uniform;, score=0.787 total time=   0.0s\n",
            "[CV 3/5] END n_jobs=-1, n_neighbors=7, p=2, weights=uniform;, score=0.719 total time=   0.0s\n",
            "[CV 4/5] END n_jobs=-1, n_neighbors=7, p=2, weights=uniform;, score=0.596 total time=   0.0s\n",
            "[CV 5/5] END n_jobs=-1, n_neighbors=7, p=2, weights=uniform;, score=0.689 total time=   0.0s\n",
            "[CV 1/5] END n_jobs=-1, n_neighbors=7, p=2, weights=distance;, score=0.778 total time=   0.0s\n",
            "[CV 2/5] END n_jobs=-1, n_neighbors=7, p=2, weights=distance;, score=0.828 total time=   0.0s\n",
            "[CV 3/5] END n_jobs=-1, n_neighbors=7, p=2, weights=distance;, score=0.756 total time=   0.0s\n",
            "[CV 4/5] END n_jobs=-1, n_neighbors=7, p=2, weights=distance;, score=0.631 total time=   0.0s\n",
            "[CV 5/5] END n_jobs=-1, n_neighbors=7, p=2, weights=distance;, score=0.722 total time=   0.0s\n",
            "[CV 1/5] END n_jobs=-1, n_neighbors=7, p=3, weights=uniform;, score=0.747 total time=   0.0s\n",
            "[CV 2/5] END n_jobs=-1, n_neighbors=7, p=3, weights=uniform;, score=0.766 total time=   0.0s\n",
            "[CV 3/5] END n_jobs=-1, n_neighbors=7, p=3, weights=uniform;, score=0.713 total time=   0.0s\n",
            "[CV 4/5] END n_jobs=-1, n_neighbors=7, p=3, weights=uniform;, score=0.595 total time=   0.0s\n",
            "[CV 5/5] END n_jobs=-1, n_neighbors=7, p=3, weights=uniform;, score=0.718 total time=   0.0s\n",
            "[CV 1/5] END n_jobs=-1, n_neighbors=7, p=3, weights=distance;, score=0.783 total time=   0.0s\n",
            "[CV 2/5] END n_jobs=-1, n_neighbors=7, p=3, weights=distance;, score=0.811 total time=   0.0s\n",
            "[CV 3/5] END n_jobs=-1, n_neighbors=7, p=3, weights=distance;, score=0.751 total time=   0.0s\n",
            "[CV 4/5] END n_jobs=-1, n_neighbors=7, p=3, weights=distance;, score=0.614 total time=   0.0s\n",
            "[CV 5/5] END n_jobs=-1, n_neighbors=7, p=3, weights=distance;, score=0.739 total time=   0.0s\n"
          ]
        },
        {
          "output_type": "execute_result",
          "data": {
            "text/plain": [
              "GridSearchCV(cv=5, estimator=KNeighborsRegressor(),\n",
              "             param_grid={'n_jobs': [-1], 'n_neighbors': [5, 6, 7],\n",
              "                         'p': [1, 2, 3], 'weights': ['uniform', 'distance']},\n",
              "             verbose=4)"
            ]
          },
          "metadata": {},
          "execution_count": 161
        }
      ]
    },
    {
      "cell_type": "code",
      "source": [
        "modelknn_mse = mean_squared_error(y_test, model_knn.predict(X_test))\n",
        "modelknn_r2 = r2_score(y_test, model_knn.predict(X_test))\n",
        "print(f\"MSE: {modelknn_mse}\\nR2 Score: {modelknn_r2}\")"
      ],
      "metadata": {
        "colab": {
          "base_uri": "https://localhost:8080/"
        },
        "id": "YN3K0Xm9SAZq",
        "outputId": "31608df4-46b5-43b4-8f55-85af4fafdd1f"
      },
      "execution_count": 162,
      "outputs": [
        {
          "output_type": "stream",
          "name": "stdout",
          "text": [
            "MSE: 10.387179960736058\n",
            "R2 Score: 0.843046752328652\n"
          ]
        }
      ]
    }
  ]
}